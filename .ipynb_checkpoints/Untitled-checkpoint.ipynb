{
 "cells": [
  {
   "cell_type": "code",
   "execution_count": 1,
   "id": "5e233697-637e-443a-a697-427a08aabd16",
   "metadata": {},
   "outputs": [
    {
     "name": "stdout",
     "output_type": "stream",
     "text": [
      "Note: you may need to restart the kernel to use updated packages.\n"
     ]
    },
    {
     "name": "stderr",
     "output_type": "stream",
     "text": [
      "\n",
      "[notice] A new release of pip available: 22.3.1 -> 23.1.2\n",
      "[notice] To update, run: python.exe -m pip install --upgrade pip\n"
     ]
    }
   ],
   "source": [
    "%pip install -q beautifulsoup4"
   ]
  },
  {
   "cell_type": "code",
   "execution_count": 2,
   "id": "c53a1625-12a8-4b1f-92e1-5977d2f489c4",
   "metadata": {},
   "outputs": [
    {
     "name": "stdout",
     "output_type": "stream",
     "text": [
      "Note: you may need to restart the kernel to use updated packages.\n"
     ]
    },
    {
     "name": "stderr",
     "output_type": "stream",
     "text": [
      "\n",
      "[notice] A new release of pip available: 22.3.1 -> 23.1.2\n",
      "[notice] To update, run: python.exe -m pip install --upgrade pip\n"
     ]
    }
   ],
   "source": [
    "%pip install -q gematriapy"
   ]
  },
  {
   "cell_type": "code",
   "execution_count": 3,
   "id": "1f223199-852c-4124-9a4f-d77691557886",
   "metadata": {},
   "outputs": [],
   "source": [
    "import re\n",
    "import bs4\n",
    "import gematriapy"
   ]
  },
  {
   "cell_type": "code",
   "execution_count": 4,
   "id": "4d420528-10f9-4b44-a574-809def799434",
   "metadata": {},
   "outputs": [],
   "source": [
    "from collections import namedtuple"
   ]
  },
  {
   "cell_type": "code",
   "execution_count": 5,
   "id": "1d5b2783-b379-408c-b93b-f71199da47d1",
   "metadata": {},
   "outputs": [],
   "source": [
    "BookData = namedtuple('BookData', 'part,html_file,book,file_text')"
   ]
  },
  {
   "cell_type": "code",
   "execution_count": 6,
   "id": "7396b5ac-ad3a-41c0-a471-8359bfc45d32",
   "metadata": {},
   "outputs": [],
   "source": [
    "import pprint\n",
    "pp = pprint.PrettyPrinter(indent=4)"
   ]
  },
  {
   "cell_type": "code",
   "execution_count": 7,
   "id": "649b43fa-11f5-4f5a-83ba-b78f0a7c9354",
   "metadata": {},
   "outputs": [],
   "source": [
    "texts_path = \".\\\\k001\\\\k\\\\\"\n",
    "\n",
    "books = [\n",
    "    (\"תורה\", \"k01.htm\", \"בראשית\", ''),\n",
    "    (\"תורה\", \"k02.htm\", \"שמות\", ''),\n",
    "    (\"תורה\", \"k03.htm\", \"ויקרא\", ''),\n",
    "    (\"תורה\", \"k04.htm\", \"במדבר\", ''),\n",
    "    (\"תורה\", \"k05.htm\", \"דברים\", ''),\n",
    "    (\"נביאים\", \"k06.htm\", \"יהושוע\", ''),\n",
    "    (\"נביאים\", \"k07.htm\", \"שופטים\", ''),\n",
    "    (\"נביאים\", \"k08.htm\", \"שמואל א\", 'א'),\n",
    "    (\"נביאים\", \"k08.htm\", \"שמואל ב\", 'ב'),\n",
    "    (\"נביאים\", \"k09.htm\", \"מלכים א\", 'א'),\n",
    "    (\"נביאים\", \"k09.htm\", \"מלכים ב\", 'ב'),\n",
    "    (\"נביאים\", \"k10.htm\", \"ישעיהו\", ''),\n",
    "    (\"נביאים\", \"k11.htm\", \"ירמיהו\", ''),\n",
    "    (\"נביאים\", \"k12.htm\", \"יחזקאל\", ''),\n",
    "    (\"נביאים\", \"k13.htm\", \"הושע\", ''),\n",
    "    (\"נביאים\", \"k14.htm\", \"יואל\", ''),\n",
    "    (\"נביאים\", \"k15.htm\", \"עמוס\", ''),\n",
    "    (\"נביאים\", \"k16.htm\", \"עובדיה\", ''),\n",
    "    (\"נביאים\", \"k17.htm\", \"יונה\", ''),\n",
    "    (\"נביאים\", \"k18.htm\", \"מיכה\", ''),\n",
    "    (\"נביאים\", \"k19.htm\", \"נחום\", ''),\n",
    "    (\"נביאים\", \"k20.htm\", \"חבקוק\", ''),\n",
    "    (\"נביאים\", \"k21.htm\", \"צפניה\", ''),\n",
    "    (\"נביאים\", \"k22.htm\", \"חגיי\", ''),\n",
    "    (\"נביאים\", \"k23.htm\", \"זכריה\", ''),\n",
    "    (\"נביאים\", \"k24.htm\", \"מלאכי\", ''),\n",
    "    (\"כתובים\", \"k25.htm\", \"דברי הימים א\", 'א'),\n",
    "    (\"כתובים\", \"k25.htm\", \"דברי הימים ב\", 'ב'),\n",
    "    (\"כתובים\", \"k26.htm\", \"תהילים\", ''),\n",
    "    (\"כתובים\", \"k27.htm\", \"איוב\", ''),\n",
    "    (\"כתובים\", \"k28.htm\", \"משלי\", ''),\n",
    "    (\"כתובים\", \"k29.htm\", \"רות\", ''),\n",
    "    (\"כתובים\", \"k30.htm\", \"שיר השירים\", ''),\n",
    "    (\"כתובים\", \"k31.htm\", \"קוהלת\", ''),\n",
    "    (\"כתובים\", \"k32.htm\", \"איכה\", ''),\n",
    "    (\"כתובים\", \"k33.htm\", \"אסתר\", ''),\n",
    "    (\"כתובים\", \"k34.htm\", \"דנייאל\", ''),\n",
    "    (\"כתובים\", \"k35.htm\", \"עזרא\" ,\"ע\" ),\n",
    "    (\"כתובים\", \"k35.htm\", \"נחמיה\", 'נ')\n",
    "]"
   ]
  },
  {
   "cell_type": "code",
   "execution_count": 8,
   "id": "3b63f3f2-5cfe-47ea-84ec-11ca0960cf65",
   "metadata": {},
   "outputs": [
    {
     "name": "stdout",
     "output_type": "stream",
     "text": [
      "[   ('תורה', 'k01.htm', 'בראשית', ''),\n",
      "    ('תורה', 'k02.htm', 'שמות', ''),\n",
      "    ('תורה', 'k03.htm', 'ויקרא', ''),\n",
      "    ('תורה', 'k04.htm', 'במדבר', ''),\n",
      "    ('תורה', 'k05.htm', 'דברים', ''),\n",
      "    ('נביאים', 'k06.htm', 'יהושוע', ''),\n",
      "    ('נביאים', 'k07.htm', 'שופטים', ''),\n",
      "    ('נביאים', 'k08.htm', 'שמואל א', 'א'),\n",
      "    ('נביאים', 'k08.htm', 'שמואל ב', 'ב'),\n",
      "    ('נביאים', 'k09.htm', 'מלכים א', 'א'),\n",
      "    ('נביאים', 'k09.htm', 'מלכים ב', 'ב'),\n",
      "    ('נביאים', 'k10.htm', 'ישעיהו', ''),\n",
      "    ('נביאים', 'k11.htm', 'ירמיהו', ''),\n",
      "    ('נביאים', 'k12.htm', 'יחזקאל', ''),\n",
      "    ('נביאים', 'k13.htm', 'הושע', ''),\n",
      "    ('נביאים', 'k14.htm', 'יואל', ''),\n",
      "    ('נביאים', 'k15.htm', 'עמוס', ''),\n",
      "    ('נביאים', 'k16.htm', 'עובדיה', ''),\n",
      "    ('נביאים', 'k17.htm', 'יונה', ''),\n",
      "    ('נביאים', 'k18.htm', 'מיכה', ''),\n",
      "    ('נביאים', 'k19.htm', 'נחום', ''),\n",
      "    ('נביאים', 'k20.htm', 'חבקוק', ''),\n",
      "    ('נביאים', 'k21.htm', 'צפניה', ''),\n",
      "    ('נביאים', 'k22.htm', 'חגיי', ''),\n",
      "    ('נביאים', 'k23.htm', 'זכריה', ''),\n",
      "    ('נביאים', 'k24.htm', 'מלאכי', ''),\n",
      "    ('כתובים', 'k25.htm', 'דברי הימים א', 'א'),\n",
      "    ('כתובים', 'k25.htm', 'דברי הימים ב', 'ב'),\n",
      "    ('כתובים', 'k26.htm', 'תהילים', ''),\n",
      "    ('כתובים', 'k27.htm', 'איוב', ''),\n",
      "    ('כתובים', 'k28.htm', 'משלי', ''),\n",
      "    ('כתובים', 'k29.htm', 'רות', ''),\n",
      "    ('כתובים', 'k30.htm', 'שיר השירים', ''),\n",
      "    ('כתובים', 'k31.htm', 'קוהלת', ''),\n",
      "    ('כתובים', 'k32.htm', 'איכה', ''),\n",
      "    ('כתובים', 'k33.htm', 'אסתר', ''),\n",
      "    ('כתובים', 'k34.htm', 'דנייאל', ''),\n",
      "    ('כתובים', 'k35.htm', 'עזרא', 'ע'),\n",
      "    ('כתובים', 'k35.htm', 'נחמיה', 'נ')]\n"
     ]
    }
   ],
   "source": [
    "pp.pprint(books)"
   ]
  },
  {
   "cell_type": "code",
   "execution_count": 10,
   "id": "e17dad2a-ed2c-4742-be95-21b525760cb4",
   "metadata": {},
   "outputs": [],
   "source": [
    "import io\n",
    "def read_file_text(file_name):\n",
    "    with io.open(texts_path + file_name, mode='r', encoding='ISO-8859-8') as file:\n",
    "        return file.read()"
   ]
  },
  {
   "cell_type": "code",
   "execution_count": 16,
   "id": "6ad0d062-3157-49d9-9639-062cf4207c56",
   "metadata": {},
   "outputs": [],
   "source": [
    "book_text = [(part,book,read_file_text(html_file),match) for part,html_file,book,match in books]"
   ]
  },
  {
   "cell_type": "code",
   "execution_count": 30,
   "id": "e2a7b3bb-3edb-4039-b8bb-3bae964a81c4",
   "metadata": {},
   "outputs": [],
   "source": [
    "from itertools import groupby, starmap\n",
    "from operator import itemgetter\n",
    "def get_perakim_counts(part,book,filetext,match):\n",
    "    pesukim = re.findall(r'<b>(?:(?P<part>[^\\u00A0,]*?)[\\u00A0])?(?P<perek>[^\\u00A0,]*?),(?P<pasuk>[^<]*?)</b>', filetext, re.MULTILINE | re.IGNORECASE)\n",
    "    matching_pasukim = [(perek,pasuk) \n",
    "                        for part,perek,pasuk in pesukim \n",
    "                        if part == match]\n",
    "    numeric_pasukim = [(gematriapy.to_number(perek), gematriapy.to_number(pasuk)) for perek, pasuk in matching_pasukim]\n",
    "    perek_count = [(perek,max(map(itemgetter(1),group)))\n",
    "                   for perek, group in groupby(numeric_pasukim, itemgetter(0))]\n",
    "    return book, perek_count\n",
    "\n",
    "all_counts = starmap(get_perakim_counts, book_text)\n",
    "# pp.pprint(list(all_counts))"
   ]
  },
  {
   "cell_type": "code",
   "execution_count": null,
   "id": "f16507ba-1f95-4485-a4a8-c4a5b6d1055b",
   "metadata": {},
   "outputs": [],
   "source": [
    "current_day = 1\n",
    "current_book = 0\n",
    "current_perek = 0\n",
    "current_pasuk = 0\n",
    "pesukim_per_day = 9\n",
    "\n",
    "# while current_book < len[all_counts]:\n",
    "#     book, perek_count = all_counts[current_book]\n",
    "#     perek, num_of_pesukim = perek_count[current_perek]\n",
    "def expand_range:\n",
    "    for book, perek_count in all_counts:\n",
    "        for perek, num_of_pesukim in perek_count:\n",
    "            for pasuk in range(num_of_pesukim):\n",
    "                yield book,perek,pasuk\n",
    "            \n",
    "expanded = list(expand_range())"
   ]
  },
  {
   "cell_type": "code",
   "execution_count": null,
   "id": "4f0f1eeb-85dc-4490-97d8-3d459aebd1c2",
   "metadata": {},
   "outputs": [],
   "source": []
  },
  {
   "cell_type": "code",
   "execution_count": null,
   "id": "c65843fe-4f53-49b9-b784-cec6db57d0e8",
   "metadata": {},
   "outputs": [],
   "source": []
  }
 ],
 "metadata": {
  "kernelspec": {
   "display_name": "Python 3 (ipykernel)",
   "language": "python",
   "name": "python3"
  },
  "language_info": {
   "codemirror_mode": {
    "name": "ipython",
    "version": 3
   },
   "file_extension": ".py",
   "mimetype": "text/x-python",
   "name": "python",
   "nbconvert_exporter": "python",
   "pygments_lexer": "ipython3",
   "version": "3.11.2"
  }
 },
 "nbformat": 4,
 "nbformat_minor": 5
}
